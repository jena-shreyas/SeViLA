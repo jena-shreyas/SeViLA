{
 "cells": [
  {
   "cell_type": "code",
   "execution_count": 1,
   "metadata": {},
   "outputs": [],
   "source": [
    "import json\n",
    "\n",
    "with open('data/annotations/mixtral/train.json', 'r') as f:\n",
    "    data = json.load(f)"
   ]
  },
  {
   "cell_type": "code",
   "execution_count": 6,
   "metadata": {},
   "outputs": [],
   "source": [
    "qtype_to_qid = {\n",
    "    'descriptive': [],\n",
    "    'explanatory': [],\n",
    "    'predictive': [],\n",
    "    'counterfactual': [],\n",
    "}\n",
    "\n",
    "for qn_dict in data:\n",
    "    qn_type = qn_dict['qn_type']\n",
    "    qtype_to_qid[qn_type].append(qn_dict['qid'])\n"
   ]
  },
  {
   "cell_type": "code",
   "execution_count": 7,
   "metadata": {},
   "outputs": [
    {
     "name": "stdout",
     "output_type": "stream",
     "text": [
      "['vrBBf2WCu5s_000018_000028_descriptive', 'b2VeOe60vD0_000000_000010_descriptive', 'ju7KZiJC9qM_000012_000022_descriptive', 'NdWUkExLMVw_000043_000053_descriptive', 'ZnJ4FZEgFLg_000119_000129_descriptive']\n",
      "\n",
      "['vrBBf2WCu5s_000018_000028_explanatory', 'b2VeOe60vD0_000000_000010_explanatory', 'ju7KZiJC9qM_000012_000022_explanatory', 'NdWUkExLMVw_000043_000053_explanatory', 'ZnJ4FZEgFLg_000119_000129_explanatory']\n"
     ]
    }
   ],
   "source": [
    "print(qtype_to_qid['descriptive'][:5])\n",
    "print()\n",
    "print(qtype_to_qid['explanatory'][:5])"
   ]
  },
  {
   "cell_type": "code",
   "execution_count": 8,
   "metadata": {},
   "outputs": [],
   "source": [
    "qn_types = ['descriptive', 'explanatory', 'predictive', 'counterfactual']\n",
    "for qn_type in qn_types:\n",
    "    with open(f'{qn_type}_qids.txt', 'w') as f:\n",
    "        for file_path in qtype_to_qid[qn_type]:\n",
    "            f.write(file_path + '\\n')"
   ]
  },
  {
   "cell_type": "code",
   "execution_count": null,
   "metadata": {},
   "outputs": [],
   "source": []
  }
 ],
 "metadata": {
  "kernelspec": {
   "display_name": "sevila",
   "language": "python",
   "name": "python3"
  },
  "language_info": {
   "codemirror_mode": {
    "name": "ipython",
    "version": 3
   },
   "file_extension": ".py",
   "mimetype": "text/x-python",
   "name": "python",
   "nbconvert_exporter": "python",
   "pygments_lexer": "ipython3",
   "version": "3.8.18"
  }
 },
 "nbformat": 4,
 "nbformat_minor": 2
}
